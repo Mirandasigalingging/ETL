{
  "nbformat": 4,
  "nbformat_minor": 0,
  "metadata": {
    "colab": {
      "provenance": []
    },
    "kernelspec": {
      "name": "python3",
      "display_name": "Python 3"
    },
    "language_info": {
      "name": "python"
    }
  },
  "cells": [
    {
      "cell_type": "code",
      "execution_count": 1,
      "metadata": {
        "colab": {
          "base_uri": "https://localhost:8080/",
          "height": 383
        },
        "id": "02bBJa_AkaSE",
        "outputId": "24c8c3a6-43d1-4f54-947f-fe26da1974da"
      },
      "outputs": [
        {
          "output_type": "error",
          "ename": "ModuleNotFoundError",
          "evalue": "No module named 'utils'",
          "traceback": [
            "\u001b[0;31m---------------------------------------------------------------------------\u001b[0m",
            "\u001b[0;31mModuleNotFoundError\u001b[0m                       Traceback (most recent call last)",
            "\u001b[0;32m<ipython-input-1-3a98f0935a56>\u001b[0m in \u001b[0;36m<cell line: 0>\u001b[0;34m()\u001b[0m\n\u001b[1;32m      1\u001b[0m \u001b[0;32mimport\u001b[0m \u001b[0mpytest\u001b[0m\u001b[0;34m\u001b[0m\u001b[0;34m\u001b[0m\u001b[0m\n\u001b[1;32m      2\u001b[0m \u001b[0;32mfrom\u001b[0m \u001b[0munittest\u001b[0m\u001b[0;34m.\u001b[0m\u001b[0mmock\u001b[0m \u001b[0;32mimport\u001b[0m \u001b[0mpatch\u001b[0m\u001b[0;34m\u001b[0m\u001b[0;34m\u001b[0m\u001b[0m\n\u001b[0;32m----> 3\u001b[0;31m \u001b[0;32mfrom\u001b[0m \u001b[0mutils\u001b[0m\u001b[0;34m.\u001b[0m\u001b[0mextract\u001b[0m \u001b[0;32mimport\u001b[0m \u001b[0mextract_page\u001b[0m\u001b[0;34m\u001b[0m\u001b[0;34m\u001b[0m\u001b[0m\n\u001b[0m\u001b[1;32m      4\u001b[0m \u001b[0;34m\u001b[0m\u001b[0m\n\u001b[1;32m      5\u001b[0m \u001b[0;31m# Mock HTML untuk testing\u001b[0m\u001b[0;34m\u001b[0m\u001b[0;34m\u001b[0m\u001b[0m\n",
            "\u001b[0;31mModuleNotFoundError\u001b[0m: No module named 'utils'",
            "",
            "\u001b[0;31m---------------------------------------------------------------------------\u001b[0;32m\nNOTE: If your import is failing due to a missing package, you can\nmanually install dependencies using either !pip or !apt.\n\nTo view examples of installing some common dependencies, click the\n\"Open Examples\" button below.\n\u001b[0;31m---------------------------------------------------------------------------\u001b[0m\n"
          ],
          "errorDetails": {
            "actions": [
              {
                "action": "open_url",
                "actionText": "Open Examples",
                "url": "/notebooks/snippets/importing_libraries.ipynb"
              }
            ]
          }
        }
      ],
      "source": [
        "import pytest\n",
        "from unittest.mock import patch\n",
        "from utils.extract import extract_page\n",
        "\n",
        "# Mock HTML untuk testing\n",
        "mock_html = '''\n",
        "<div class=\"collection-card\">\n",
        "  <img class=\"collection-image\" src=\"https://example.com/image.jpg\" />\n",
        "  <h3 class=\"product-title\">Test Product</h3>\n",
        "  <span class=\"price\">$99</span>\n",
        "  <p style=\"Rating: ⭐ 4.5 / 5\"></p>\n",
        "  <p style=\"Colors: Red Blue\"></p>\n",
        "  <p style=\"Size: M\"></p>\n",
        "  <p style=\"Gender: Men\"></p>\n",
        "</div>\n",
        "'''\n",
        "\n",
        "@patch('requests.get')\n",
        "def test_extract_page(mock_get):\n",
        "    class MockResponse:\n",
        "        def __init__(self, text):\n",
        "            self.text = text\n",
        "            self.status_code = 200\n",
        "        def raise_for_status(self):\n",
        "            pass\n",
        "\n",
        "    mock_get.return_value = MockResponse(mock_html)\n",
        "    result = extract_page(1)\n",
        "    assert isinstance(result, list)\n",
        "    assert result[0]['title'] == 'Test Product'\n",
        "    assert result[0]['price'] == '$99'\n",
        "    assert 'https://example.com/image.jpg' in result[0]['img_url']\n",
        "    assert 'rating' in result[0]"
      ]
    }
  ]
}